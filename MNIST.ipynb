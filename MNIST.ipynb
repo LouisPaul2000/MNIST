{
  "nbformat": 4,
  "nbformat_minor": 0,
  "metadata": {
    "colab": {
      "name": "MNIST",
      "provenance": [],
      "collapsed_sections": [],
      "authorship_tag": "ABX9TyPInVevOHZiV1IDlKh8XL9N",
      "include_colab_link": true
    },
    "kernelspec": {
      "name": "python3",
      "display_name": "Python 3"
    },
    "accelerator": "GPU"
  },
  "cells": [
    {
      "cell_type": "markdown",
      "metadata": {
        "id": "view-in-github",
        "colab_type": "text"
      },
      "source": [
        "<a href=\"https://colab.research.google.com/github/LouisPaul2000/MNIST/blob/master/MNIST.ipynb\" target=\"_parent\"><img src=\"https://colab.research.google.com/assets/colab-badge.svg\" alt=\"Open In Colab\"/></a>"
      ]
    },
    {
      "cell_type": "code",
      "metadata": {
        "id": "cPjgDDWN3_NU",
        "colab_type": "code",
        "colab": {
          "base_uri": "https://localhost:8080/",
          "height": 34
        },
        "outputId": "ad163d97-ac94-47dd-d45c-2ab39394e9bb"
      },
      "source": [
        "import numpy as np\n",
        "import keras as kr\n",
        "import matplotlib.pyplot as plt"
      ],
      "execution_count": null,
      "outputs": [
        {
          "output_type": "stream",
          "text": [
            "Using TensorFlow backend.\n"
          ],
          "name": "stderr"
        }
      ]
    },
    {
      "cell_type": "code",
      "metadata": {
        "id": "rCW2E0W__NEB",
        "colab_type": "code",
        "colab": {}
      },
      "source": [
        "batch_size=128\n",
        "epochs=20\n",
        "num_classes=10"
      ],
      "execution_count": null,
      "outputs": []
    },
    {
      "cell_type": "code",
      "metadata": {
        "id": "RXebtVMo_ToU",
        "colab_type": "code",
        "colab": {
          "base_uri": "https://localhost:8080/",
          "height": 52
        },
        "outputId": "f2606804-de3c-45dc-b014-4493dfc7c167"
      },
      "source": [
        "(xtrain,ytrain),(xtest,ytest)=kr.datasets.mnist.load_data()"
      ],
      "execution_count": null,
      "outputs": [
        {
          "output_type": "stream",
          "text": [
            "Downloading data from https://s3.amazonaws.com/img-datasets/mnist.npz\n",
            "11493376/11490434 [==============================] - 1s 0us/step\n"
          ],
          "name": "stdout"
        }
      ]
    },
    {
      "cell_type": "code",
      "metadata": {
        "id": "q0BU9gka_gvj",
        "colab_type": "code",
        "colab": {
          "base_uri": "https://localhost:8080/",
          "height": 34
        },
        "outputId": "dae4bc73-edb8-48e0-a644-f077dfe38fd9"
      },
      "source": [
        "xtrain.shape"
      ],
      "execution_count": null,
      "outputs": [
        {
          "output_type": "execute_result",
          "data": {
            "text/plain": [
              "(60000, 28, 28)"
            ]
          },
          "metadata": {
            "tags": []
          },
          "execution_count": 5
        }
      ]
    },
    {
      "cell_type": "code",
      "metadata": {
        "id": "6jvkeCco_pls",
        "colab_type": "code",
        "colab": {
          "base_uri": "https://localhost:8080/",
          "height": 34
        },
        "outputId": "5422bd8e-8eda-4705-ed0d-15e8add025bf"
      },
      "source": [
        "ytrain.shape"
      ],
      "execution_count": null,
      "outputs": [
        {
          "output_type": "execute_result",
          "data": {
            "text/plain": [
              "(60000,)"
            ]
          },
          "metadata": {
            "tags": []
          },
          "execution_count": 6
        }
      ]
    },
    {
      "cell_type": "code",
      "metadata": {
        "id": "L-RGRnYD_sxw",
        "colab_type": "code",
        "colab": {
          "base_uri": "https://localhost:8080/",
          "height": 34
        },
        "outputId": "8f254fdf-df84-4832-f7dc-ca9c2f7343da"
      },
      "source": [
        "xtest.shape"
      ],
      "execution_count": null,
      "outputs": [
        {
          "output_type": "execute_result",
          "data": {
            "text/plain": [
              "(10000, 28, 28)"
            ]
          },
          "metadata": {
            "tags": []
          },
          "execution_count": 7
        }
      ]
    },
    {
      "cell_type": "code",
      "metadata": {
        "id": "Yay5dDKc_ztX",
        "colab_type": "code",
        "colab": {}
      },
      "source": [
        "xtrain=xtrain.reshape(60000,784)\n",
        "xtest=xtest.reshape(10000,784)"
      ],
      "execution_count": null,
      "outputs": []
    },
    {
      "cell_type": "code",
      "metadata": {
        "id": "qiPk-KJlAEvu",
        "colab_type": "code",
        "colab": {}
      },
      "source": [
        "xtrain=xtrain.astype(\"float32\")\n",
        "xtest=xtest.astype(\"float32\")"
      ],
      "execution_count": null,
      "outputs": []
    },
    {
      "cell_type": "code",
      "metadata": {
        "id": "ZPB9v06zByGd",
        "colab_type": "code",
        "colab": {}
      },
      "source": [
        "ytrain=kr.utils.to_categorical(ytrain)\n",
        "ytest=kr.utils.to_categorical(ytest)"
      ],
      "execution_count": null,
      "outputs": []
    },
    {
      "cell_type": "code",
      "metadata": {
        "id": "qdOlTrZzCSzu",
        "colab_type": "code",
        "colab": {
          "base_uri": "https://localhost:8080/",
          "height": 138
        },
        "outputId": "8b526038-cadb-4cac-c33e-143dafa35d36"
      },
      "source": [
        "ytrain"
      ],
      "execution_count": null,
      "outputs": [
        {
          "output_type": "execute_result",
          "data": {
            "text/plain": [
              "array([[0., 0., 0., ..., 0., 0., 0.],\n",
              "       [1., 0., 0., ..., 0., 0., 0.],\n",
              "       [0., 0., 0., ..., 0., 0., 0.],\n",
              "       ...,\n",
              "       [0., 0., 0., ..., 0., 0., 0.],\n",
              "       [0., 0., 0., ..., 0., 0., 0.],\n",
              "       [0., 0., 0., ..., 0., 1., 0.]], dtype=float32)"
            ]
          },
          "metadata": {
            "tags": []
          },
          "execution_count": 11
        }
      ]
    },
    {
      "cell_type": "code",
      "metadata": {
        "id": "T_4MddKbC2T5",
        "colab_type": "code",
        "colab": {
          "base_uri": "https://localhost:8080/",
          "height": 34
        },
        "outputId": "438a18eb-2cb1-4684-c93e-f500cd9b3081"
      },
      "source": [
        "ytrain.shape"
      ],
      "execution_count": null,
      "outputs": [
        {
          "output_type": "execute_result",
          "data": {
            "text/plain": [
              "(60000, 10)"
            ]
          },
          "metadata": {
            "tags": []
          },
          "execution_count": 12
        }
      ]
    },
    {
      "cell_type": "code",
      "metadata": {
        "id": "qs12DZqgErCs",
        "colab_type": "code",
        "colab": {}
      },
      "source": [
        ""
      ],
      "execution_count": null,
      "outputs": []
    },
    {
      "cell_type": "code",
      "metadata": {
        "id": "F_StsxMxFFnY",
        "colab_type": "code",
        "colab": {}
      },
      "source": [
        "model  = kr.models.Sequential()#Dangling pointer\n",
        "model.add(kr.layers.Dense(512 ,activation=\"sigmoid\" , input_shape=(784,)))\n",
        "model.add(kr.layers.Dense(512 , activation=\"sigmoid\" ))\n",
        "model.add(kr.layers.Dense(10, activation=\"softmax\" ))\n"
      ],
      "execution_count": null,
      "outputs": []
    },
    {
      "cell_type": "code",
      "metadata": {
        "id": "lYWKnQJBFlDC",
        "colab_type": "code",
        "colab": {
          "base_uri": "https://localhost:8080/",
          "height": 260
        },
        "outputId": "4573c99b-90c3-45db-b495-08e20d5d9bb1"
      },
      "source": [
        "model.summary()"
      ],
      "execution_count": null,
      "outputs": [
        {
          "output_type": "stream",
          "text": [
            "Model: \"sequential_1\"\n",
            "_________________________________________________________________\n",
            "Layer (type)                 Output Shape              Param #   \n",
            "=================================================================\n",
            "dense_1 (Dense)              (None, 512)               401920    \n",
            "_________________________________________________________________\n",
            "dense_2 (Dense)              (None, 512)               262656    \n",
            "_________________________________________________________________\n",
            "dense_3 (Dense)              (None, 10)                5130      \n",
            "=================================================================\n",
            "Total params: 669,706\n",
            "Trainable params: 669,706\n",
            "Non-trainable params: 0\n",
            "_________________________________________________________________\n"
          ],
          "name": "stdout"
        }
      ]
    },
    {
      "cell_type": "code",
      "metadata": {
        "id": "WgFhtTe7HIdg",
        "colab_type": "code",
        "colab": {
          "base_uri": "https://localhost:8080/",
          "height": 34
        },
        "outputId": "441fda31-98a6-476e-d9b0-1eaa0b86e104"
      },
      "source": [
        "512*784+512\n"
      ],
      "execution_count": null,
      "outputs": [
        {
          "output_type": "execute_result",
          "data": {
            "text/plain": [
              "401920"
            ]
          },
          "metadata": {
            "tags": []
          },
          "execution_count": 15
        }
      ]
    },
    {
      "cell_type": "code",
      "metadata": {
        "id": "8mczP1xlHlQP",
        "colab_type": "code",
        "colab": {}
      },
      "source": [
        "model.compile(optimizer=\"adam\",loss=\"categorical_crossentropy\",metrics=[\"accuracy\"])"
      ],
      "execution_count": null,
      "outputs": []
    },
    {
      "cell_type": "code",
      "metadata": {
        "id": "h4wCG10IJ19z",
        "colab_type": "code",
        "colab": {
          "base_uri": "https://localhost:8080/",
          "height": 710
        },
        "outputId": "6235466f-6563-4491-fc59-8e913cb1f69d"
      },
      "source": [
        "hist=model.fit(xtrain , ytrain , epochs=epochs , batch_size=batch_size )"
      ],
      "execution_count": null,
      "outputs": [
        {
          "output_type": "stream",
          "text": [
            "Epoch 1/20\n",
            "60000/60000 [==============================] - 3s 53us/step - loss: 0.3980 - accuracy: 0.8903\n",
            "Epoch 2/20\n",
            "60000/60000 [==============================] - 1s 24us/step - loss: 0.2481 - accuracy: 0.9265\n",
            "Epoch 3/20\n",
            "60000/60000 [==============================] - 2s 26us/step - loss: 0.2258 - accuracy: 0.9309\n",
            "Epoch 4/20\n",
            "60000/60000 [==============================] - 2s 25us/step - loss: 0.2181 - accuracy: 0.9336\n",
            "Epoch 5/20\n",
            "60000/60000 [==============================] - 2s 26us/step - loss: 0.2024 - accuracy: 0.9374\n",
            "Epoch 6/20\n",
            "60000/60000 [==============================] - 2s 26us/step - loss: 0.1938 - accuracy: 0.9405\n",
            "Epoch 7/20\n",
            "60000/60000 [==============================] - 1s 25us/step - loss: 0.1862 - accuracy: 0.9424\n",
            "Epoch 8/20\n",
            "60000/60000 [==============================] - 2s 26us/step - loss: 0.1736 - accuracy: 0.9461\n",
            "Epoch 9/20\n",
            "60000/60000 [==============================] - 1s 24us/step - loss: 0.1699 - accuracy: 0.9472\n",
            "Epoch 10/20\n",
            "60000/60000 [==============================] - 2s 26us/step - loss: 0.1609 - accuracy: 0.9504\n",
            "Epoch 11/20\n",
            "60000/60000 [==============================] - 2s 25us/step - loss: 0.1524 - accuracy: 0.9527\n",
            "Epoch 12/20\n",
            "60000/60000 [==============================] - 2s 27us/step - loss: 0.1475 - accuracy: 0.9535\n",
            "Epoch 13/20\n",
            "60000/60000 [==============================] - 2s 26us/step - loss: 0.1416 - accuracy: 0.9552\n",
            "Epoch 14/20\n",
            "60000/60000 [==============================] - 2s 27us/step - loss: 0.1379 - accuracy: 0.9560\n",
            "Epoch 15/20\n",
            "60000/60000 [==============================] - 2s 27us/step - loss: 0.1369 - accuracy: 0.9577\n",
            "Epoch 16/20\n",
            "60000/60000 [==============================] - 2s 27us/step - loss: 0.1327 - accuracy: 0.9581\n",
            "Epoch 17/20\n",
            "60000/60000 [==============================] - 2s 26us/step - loss: 0.1254 - accuracy: 0.9603\n",
            "Epoch 18/20\n",
            "60000/60000 [==============================] - 2s 25us/step - loss: 0.1242 - accuracy: 0.9601\n",
            "Epoch 19/20\n",
            "60000/60000 [==============================] - 2s 26us/step - loss: 0.1226 - accuracy: 0.9612\n",
            "Epoch 20/20\n",
            "60000/60000 [==============================] - 2s 27us/step - loss: 0.1160 - accuracy: 0.9638\n"
          ],
          "name": "stdout"
        }
      ]
    },
    {
      "cell_type": "code",
      "metadata": {
        "id": "XjxdiPdALtJL",
        "colab_type": "code",
        "colab": {}
      },
      "source": [
        "model.save(\"model.h5\")"
      ],
      "execution_count": null,
      "outputs": []
    },
    {
      "cell_type": "code",
      "metadata": {
        "id": "qE5FS8sOMdqo",
        "colab_type": "code",
        "colab": {}
      },
      "source": [
        "model.load_weights(\"model.h5\")"
      ],
      "execution_count": null,
      "outputs": []
    },
    {
      "cell_type": "code",
      "metadata": {
        "id": "UIISQG5rNe4X",
        "colab_type": "code",
        "colab": {
          "base_uri": "https://localhost:8080/",
          "height": 285
        },
        "outputId": "e641b2d8-5e20-4fd7-9432-a19c9ba113f8"
      },
      "source": [
        "\n",
        "\n",
        "plt.plot(hist.history[\"accuracy\"])\n",
        "plt.plot(hist.history[\"loss\"])"
      ],
      "execution_count": null,
      "outputs": [
        {
          "output_type": "execute_result",
          "data": {
            "text/plain": [
              "[<matplotlib.lines.Line2D at 0x7fb9d217d780>]"
            ]
          },
          "metadata": {
            "tags": []
          },
          "execution_count": 22
        },
        {
          "output_type": "display_data",
          "data": {
            "image/png": "[encoded data removed]",
            "text/plain": [
              "<Figure size 432x288 with 1 Axes>"
            ]
          },
          "metadata": {
            "tags": [],
            "needs_background": "light"
          }
        }
      ]
    }
  ]
}